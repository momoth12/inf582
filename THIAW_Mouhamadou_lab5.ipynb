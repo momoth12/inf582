{
  "cells": [
    {
      "cell_type": "markdown",
      "metadata": {
        "id": "lCJvlnvsKALE"
      },
      "source": [
        "<center>\n",
        "<h1>\n",
        "<h1>INF582: INTRODUCTION TO TEXT MINING AND NLP</h1>\n",
        "<h2>Lab Session 5: Neural Machine Translation</h2>\n",
        "<h4>Lecture: Prof. Michalis Vazirgiannis<br>\n",
        "Lab: Dr. Guokan Shang and Hadi Abdine</h4>\n",
        "<h5>Friday, February 09, 2024</h5>\n",
        "<br>\n",
        "</center>\n",
        "\n",
        "<hr style=\"border:10px solid gray\"> </hr>\n",
        "<p style=\"text-align: justify;\">\n",
        "This handout includes theoretical introductions, <font color='blue'>coding tasks</font> and <font color='red'>questions</font>. Before the deadline, you should submit to Moodle a <B>.ipynb</B> file named <b>Lastname_Firstname.ipynb</b> containing your notebook (with the gaps filled and your answers to the questions). Your answers should be well constructed and well justified. They should not repeat the question or generalities in the handout. When relevant, you are welcome to include figures, equations and tables derived from your own computations, theoretical proofs or qualitative explanations. One submission is required for each student. The deadline for this lab is <b>February 16\n",
        ", 2024 08:29 AM</b>. No extension will be granted. Late policy is as follows: ]0, 24] hours late → -5 pts; ]24, 48] hours late → -10 pts; > 48 hours late → not graded (zero).\n",
        "</p>\n",
        "<hr style=\"border:5px solid gray\"> </hr>\n",
        "\n",
        "<h3><b>1. Learning Objective:</b></h2>\n",
        "<p style=\"text-align: justify;\">\n",
        "In this lab, you will learn about sequence to sequence (seq2seq) architectures.\n",
        "More precisely, we will implement the Neural Machine Translation (NMT) model described in <a href='https://arxiv.org/abs/1508.04025'>[Luong et al., 2015]</a> using Python 3.6 and PyTorch (the latest version).\n",
        "The only difference is that we will be using non-stacked RNNs, whereas <a href='https://arxiv.org/abs/1508.04025'>[Luong et al., 2015]</a> uses stacked RNNs.\n",
        "\n",
        "We will train our model on the task of English to French translation, using a set of sentence pairs from <a href='http://www.manythings.org/anki/'>http://www.manythings.org/anki/</a>, originally extracted from the Tatoeba project: <a href='https://tatoeba.org/eng/'>https://tatoeba.org/eng/</a>.\n",
        "\n",
        "Our dataset features 136,521 pairs for training and 34,130 pairs for testing, which is quite small, but enough for the purpose of this lab.\n",
        "The average size of a source sentence is 7.6 while the average size of a target sentence is 8.3.\n",
        "\n",
        "$\\underline{\\textbf{Note}}$: the pairs have already been preprocessed.\n",
        "Each sentence was turned into a list of integers starting from 4.\n",
        "The integers correspond to indexes in the source and target vocabularies, that have been constructed from the training set, and in which the most frequent words have index 4.\n",
        "0, 1, 2 and 3 are reserved respectively for the padding, out-of-vocabulary, start of sentence, and end of sentence special tokens.\n",
        "\n",
        "<h3><b>2. Recurrent Neural Networks:</b></h3>\n",
        "<p style=\"text-align: justify;\">\n",
        "\n",
        "While CNNs are good at dealing with grids, RNNs were specifically developed to be used with sequences.\n",
        "As shown in Fig. 1, a RNN can be viewed as a chain of simple neural layers that share the same parameters.\n",
        "From a high level, a RNN is fed an ordered list of input vectors $\\big\\{x_{1},...,x_{T}\\big\\}$ as well as an initial hidden state $h_{0}$ initialized to all zeros, and returns an ordered list of hidden states $\\big\\{h_{1},...,h_{T}\\big\\}$, as well as an ordered list of output vectors $\\big\\{y_{1},...,y_{T}\\big\\}$.\n",
        "The hidden states may serve as input to the RNN units above in the case of a stacked architecture, or directly be used as they are (e.g., by the attention mechanism).\n",
        "The hidden states correspond more or less to the \"short-term\" memory of the network.\n",
        "<center>\n",
        "<table><tr>\n",
        "<td> <img src='https://am3pap003files.storage.live.com/y4mADPYPHjBcGTnT7CZP44m-lKWhTWskrhuFQdYx35RuUSnLvcnxNWwTkV1yuTgYeneKprJ2xb1G2pQ4JDnLEKk-Ze4-Sig34iqPml_V6edc9_bFC45sR7s1o1FsJyETpKoHRGNFaUqkHPk7G1an2FEWmutoKskWiIlRFVG-QRnPTrb1NDGHF3A1utmLhOxVC_W?width=498&height=246&cropmode=none' alt=\"Drawing\" width= '500px'/> </td>\n",
        "<td> <img src=\"https://am3pap003files.storage.live.com/y4mnv0LzVyEhrZ8VQG5zMAw1yTajHpJ-vQGkjqifaKvaRC4BhGn73XsmcUg67ykmYL-1031mxHc6hVdA8bjJFhvfH_4vofGLJStrnw7euQQzUa2GZvNLk-FiLZbB5IXHIA7pxnigowEWvxhEhsFsSN_TVCx7DYX3FIVpUv4DfM49oGLG3u94YC-YS5x21Jx7jbp?width=1336&height=733&cropmode=none\" alt=\"Drawing\" width='500px'/> </td>\n",
        "</tr></table>\n",
        "\n",
        "<b>Figure 1:</b> Left: 3 steps of an unrolled RNN (adapted from <a href='http://www.wildml.com/2015/09/recurrent-neural-networks-tutorial-part-2-implementing-a-language-model-rnn-with-python-numpy-and-theano/'>Denny Britz' blog</a>). Right: 3 steps of an unrolled stacked RNN.\n",
        "The hidden states at a given position flow vertically through the RNN layers. On both sides, each circle represents a  RNN unit. </a><br>\n",
        "</center>\n",
        "\n",
        "<h3><b>3. Sequence-to-sequence architecture:</b></h3>\n",
        "<p style=\"text-align: justify;\">\n",
        "Our input and output are sequences of words, respectively $x = \\big(x_1, \\dots ,x_{T_x}\\big)$ and $y = \\big(y_1, \\dots ,y_{T_y}\\big)$.\n",
        "$x$ and $y$ are usually referred to as the $\\textit{source}$ and $\\textit{target}$ sentences.\n",
        "<h4><b>3.1. Encoder</b></h4>\n",
        "<p style=\"text-align: justify;\">\n",
        "Our encoder is a non-stacked unidirectional RNN with GRU units (see the appendix for details about the GRU.)\n",
        "\n"
      ]
    },
    {
      "cell_type": "code",
      "execution_count": 453,
      "metadata": {
        "id": "DB6pvLvlKbtD"
      },
      "outputs": [
        {
          "name": "stderr",
          "output_type": "stream",
          "text": [
            "[nltk_data] Downloading package punkt to\n",
            "[nltk_data]     C:\\Users\\mouha\\AppData\\Roaming\\nltk_data...\n",
            "[nltk_data]   Package punkt is already up-to-date!\n"
          ]
        }
      ],
      "source": [
        "import torch\n",
        "import torch.nn as nn\n",
        "import torch.optim as optim\n",
        "from torch.utils import data\n",
        "from torch.nn.utils.rnn import pad_sequence\n",
        "from tqdm import tqdm\n",
        "from nltk import word_tokenize\n",
        "import sys\n",
        "import json\n",
        "import nltk\n",
        "nltk.download('punkt')\n",
        "import numpy as np\n",
        "import matplotlib.pyplot as plt\n"
      ]
    },
    {
      "cell_type": "markdown",
      "metadata": {
        "id": "LNLFXbJu7Kcp"
      },
      "source": [
        "\n",
        "<b><h4><font color='blue'>\n",
        "<hr style=\"border:10px solid blue\"> </hr>\n",
        "Task 1: </b><br>\n",
        "Fill the gaps in the <i>forward</i> function of the <i>Encoder</i> class.\n",
        "<hr style=\"border:10px solid blue\"> </hr>\n",
        "</font></h4>"
      ]
    },
    {
      "cell_type": "code",
      "execution_count": 454,
      "metadata": {
        "id": "Kc8cQTFkKmif"
      },
      "outputs": [],
      "source": [
        "class Encoder(nn.Module):\n",
        "    '''\n",
        "    to be passed the entire source sequence at once\n",
        "    we use padding_idx in nn.Embedding so that the padding vector does not take gradient (always zero)\n",
        "    https://pytorch.org/docs/stable/nn.html#gru\n",
        "    '''\n",
        "    def __init__(self, vocab_size, embedding_dim, hidden_dim, padding_idx):\n",
        "        super(Encoder, self).__init__()\n",
        "        self.embedding = nn.Embedding(vocab_size, embedding_dim, padding_idx)\n",
        "        self.rnn = nn.GRU(embedding_dim, hidden_dim)\n",
        "\n",
        "    def forward(self, input):\n",
        "        # fill the gaps # (transform input into embeddings and pass embeddings to RNN)\n",
        "        # you should return a tensor of shape (seq, batch, feat)\n",
        "        embedded=self.embedding(input)\n",
        "        output, hidden = self.rnn(embedded)\n",
        "        return output\n"
      ]
    },
    {
      "cell_type": "markdown",
      "metadata": {
        "id": "gZgoCyV27q65"
      },
      "source": [
        "<h4><b>3.2. Decoder</b></h4>\n",
        "<p style=\"text-align: justify;\">\n",
        "Our decoder is a non-stacked unidirectional RNN.\n",
        "It is a neural language model conditioned not only on the previously generated target words but also on the source sentence.\n",
        "More precisely, it generates the target sentence $y=(y_1,\\dots,y_{T_y})$ one word $y_t$ at a time based on the distribution:\n",
        "\n",
        "\\begin{equation}\n",
        "P\\big[y_t|\\{y_{1},...,y_{t-1}\\},c_t\\big] = \\mathrm{softmax}\\big(W_s\\tilde{h}_t\\big)\n",
        "\\end{equation}\n",
        "\n",
        "where $\\tilde{h}_t$, the \\textit{attentional} hidden state, is computed as (biases are not shown for simplicity):\n",
        "\n",
        "\\begin{equation}\n",
        "\\tilde{h}_t = \\mathrm{tanh}\\big(W_c\\big[c_t;h_t\\big]\\big)\n",
        "\\end{equation}\n",
        "\n",
        " $h_t$ is the $t^{th}$ hidden state of the decoder, $c_t$ is the source context vector, and $\\big[;\\big]$ denotes concatenation. $W_s$ and $W_c$ are matrices of trainable parameters.\n",
        "\n",
        "$\\textbf{Note:}$ while all the inputs of the encoder (i.e., all the words of the input sentence) are known at encoding time, the decoder generates one target word at a time, and uses as input at time $t$ its prediction from time $t-1$.\n",
        "\n",
        "\n",
        "<b><h4><font color='blue'>\n",
        "<hr style=\"border:10px solid blue\"> </hr>\n",
        "Task 2: </b><br>\n",
        "Fill the gaps in the $\\texttt{forward}$ function of the $\\texttt{Decoder}$ class.\n",
        "<hr style=\"border:10px solid blue\"> </hr>\n",
        "</font></h4>"
      ]
    },
    {
      "cell_type": "code",
      "execution_count": 455,
      "metadata": {
        "id": "h7tLaq4PK90q"
      },
      "outputs": [],
      "source": [
        "class Decoder(nn.Module):\n",
        "    '''to be used one timestep at a time\n",
        "       see https://pytorch.org/docs/stable/nn.html#gru'''\n",
        "    def __init__(self, vocab_size, embedding_dim, hidden_dim, padding_idx):\n",
        "        super(Decoder, self).__init__()\n",
        "        self.embedding = nn.Embedding(vocab_size, embedding_dim, padding_idx)\n",
        "        self.rnn = nn.GRU(embedding_dim, hidden_dim)\n",
        "        self.ff_concat = nn.Linear(2*hidden_dim, hidden_dim)\n",
        "        self.predict = nn.Linear(hidden_dim, vocab_size)\n",
        "\n",
        "    def forward(self, input, source_context, h):\n",
        "        # fill the gaps #\n",
        "        # transform input into embeddings, pass embeddings to RNN, concatenate with source_context and apply tanh, and make the prediction\n",
        "        # prediction should be of shape (1, batch, vocab), h and tilde_h of shape (1, batch, feat)\n",
        "        embedded=self.embedding(input)\n",
        "        output,other=self.rnn(embedded, h)\n",
        "        tilde_h_t = torch.tanh(self.ff_concat(torch.cat((source_context,output), dim=2)))\n",
        "\n",
        "        prediction =self.predict(tilde_h_t)\n",
        "        return prediction, output"
      ]
    },
    {
      "cell_type": "markdown",
      "metadata": {
        "id": "0mE7IkYx8Kjl"
      },
      "source": [
        "<h4><b>3.3. Global attention mechanism</b></h4>\n",
        "<p style=\"text-align: justify;\">\n",
        "The context vector $c_t$ is computed as a weighted sum of the encoder's hidden states $\\bar{h}_i$.\n",
        "The vector of weights $\\alpha_{t}$ is obtained by applying a softmax to the output of an $\\textit{alignment}$ operation ($\\texttt{score()}$) between the current target hidden state $h_t$ and all source hidden states $\\bar{h}_{i}$'s.\n",
        "$\\alpha_{t}$ indicates which words in the source sentence are the most likely to help in predicting the next word.\n",
        "$\\texttt{score()}$ can in theory be any comparison function.\n",
        "In our implementation, we will use the $\\texttt{concat}$ attention formulation of <a href='https://arxiv.org/abs/1508.04025'>[Luong et al., 2015]</a> (see section 3.1 of the paper).\n",
        "An overview is provided in Fig. 2.  at a time, and uses as input at time $t$ its prediction from time $t-1$.\n",
        "<center>\n",
        "<img width='800px' src='https://am3pap003files.storage.live.com/y4mp9luLosWxfQX_f93pUgybccFBrF5TSh3uB41wBKzNeaL7fDlICHP4q9Vpr3qTmriWwUsJcTC2nI-IKW9rsv3Wa-b2vVo1eesKbm9gixxIaqEiIZ585xPFK-Hsnc896qELG8jTqPVrTY4YYhQ4iPVfIksVYRg1J-7BcZDlorToWiQJZnZf4Omg7BnVMeQhk6-?width=1836&height=874&cropmode=none' />\n",
        "<br>\n",
        "<b>Figure 2:</b>Summary of the $\\textit{global attention}$ mechanism <a href='https://arxiv.org/abs/1508.04025'>[Luong et al., 2015]</a> <br>\n",
        "</center>\n",
        "\n",
        "\n",
        "<b><h4><font color='blue'>\n",
        "<hr style=\"border:10px solid blue\"> </hr>\n",
        "Task 3: </b><br>\n",
        "Fill the gaps in the $\\texttt{forward}$ function of the $\\texttt{seq2seqAtt}$ class.\n",
        "<hr style=\"border:10px solid blue\"> </hr>\n",
        "</font></h4>"
      ]
    },
    {
      "cell_type": "code",
      "execution_count": 456,
      "metadata": {
        "id": "JwUAUDL4KmoM"
      },
      "outputs": [],
      "source": [
        "class seq2seqAtt(nn.Module):\n",
        "    '''\n",
        "    concat global attention a la Luong et al. 2015 (subsection 3.1)\n",
        "    https://arxiv.org/pdf/1508.04025.pdf\n",
        "    '''\n",
        "    def __init__(self, hidden_dim, hidden_dim_s, hidden_dim_t):\n",
        "        super(seq2seqAtt, self).__init__()\n",
        "        self.ff_concat = nn.Linear(hidden_dim_s+hidden_dim_t, hidden_dim)\n",
        "        self.ff_score = nn.Linear(hidden_dim, 1, bias=False) # just a dot product here\n",
        "\n",
        "    def forward(self, target_h, source_hs):\n",
        "        target_h_rep = target_h.repeat(source_hs.size(0), 1, 1) # (1, batch, feat) -> (seq, batch, feat)\n",
        "        # fill the gaps #\n",
        "        # implement the score computation part of the concat formulation (see section 3.1. of Luong 2015)\n",
        "        concat_output =torch.concat((target_h_rep, source_hs),dim=2)\n",
        "        scores =self.ff_score(torch.tanh(self.ff_concat(concat_output))) # should be of shape (seq, batch, 1)\n",
        "        scores = scores.squeeze(dim=2) # (seq, batch, 1) -> (seq, batch). dim = 2 because we don't want to squeeze the batch dim if batch size = 1\n",
        "        norm_scores = torch.softmax(scores, 0)\n",
        "        source_hs_p = source_hs.permute((2, 0, 1)) # (seq, batch, feat) -> (feat, seq, batch)\n",
        "        weighted_source_hs = (norm_scores * source_hs_p) # (seq, batch) * (feat, seq, batch) (* checks from right to left that the dimensions match)\n",
        "        ct = torch.sum(weighted_source_hs.permute((1, 2, 0)), 0, keepdim=True)# (feat, seq, batch) -> (seq, batch, feat) -> (1, batch, feat); keepdim otherwise sum squeezes\n",
        "        return ct, norm_scores.squeeze(1)"
      ]
    },
    {
      "cell_type": "markdown",
      "metadata": {
        "id": "nLurQq5qABAz"
      },
      "source": [
        "<h3><b>4. Training and Evaluation:</b></h3>\n",
        "<p style=\"text-align: justify;\">\n",
        "\n",
        "<b><h4><font color='blue'>\n",
        "<hr style=\"border:10px solid blue\"> </hr>\n",
        "Task 4: </b><br>\n",
        "Fill the gaps in the $\\texttt{forward}$ function of the $\\texttt{seq2seqModel}$ class.\n",
        "<hr style=\"border:10px solid blue\"> </hr>\n",
        "</font></h4>"
      ]
    },
    {
      "cell_type": "code",
      "execution_count": 457,
      "metadata": {
        "id": "FYX0K3dNK-c9"
      },
      "outputs": [],
      "source": [
        "class seq2seqModel(nn.Module):\n",
        "    '''the full seq2seq model'''\n",
        "    ARGS = ['vocab_s','source_language','vocab_t_inv','embedding_dim_s','embedding_dim_t',\n",
        "     'hidden_dim_s','hidden_dim_t','hidden_dim_att','do_att','padding_token',\n",
        "     'oov_token','sos_token','eos_token','max_size']\n",
        "    def __init__(self, vocab_s, source_language, vocab_t_inv, embedding_dim_s, embedding_dim_t,\n",
        "                 hidden_dim_s, hidden_dim_t, hidden_dim_att, do_att, padding_token,\n",
        "                 oov_token, sos_token, eos_token, max_size):\n",
        "        super(seq2seqModel, self).__init__()\n",
        "        self.vocab_s = vocab_s\n",
        "        self.source_language = source_language\n",
        "        self.vocab_t_inv = vocab_t_inv\n",
        "        self.embedding_dim_s = embedding_dim_s\n",
        "        self.embedding_dim_t = embedding_dim_t\n",
        "        self.hidden_dim_s = hidden_dim_s\n",
        "        self.hidden_dim_t = hidden_dim_t\n",
        "        self.hidden_dim_att = hidden_dim_att\n",
        "        self.do_att = do_att # should attention be used?\n",
        "        self.padding_token = padding_token\n",
        "        self.oov_token = oov_token\n",
        "        self.sos_token = sos_token\n",
        "        self.eos_token = eos_token\n",
        "        self.max_size = max_size\n",
        "\n",
        "        self.max_source_idx = max(list(vocab_s.values()))\n",
        "        print('max source index',self.max_source_idx)\n",
        "        print('source vocab size',len(vocab_s))\n",
        "\n",
        "        self.max_target_idx = max([int(elt) for elt in list(vocab_t_inv.keys())])\n",
        "        print('max target index',self.max_target_idx)\n",
        "        print('target vocab size',len(vocab_t_inv))\n",
        "        self.device = torch.device('cuda' if torch.cuda.is_available() else 'cpu')\n",
        "        self.encoder = Encoder(self.max_source_idx+1, self.embedding_dim_s, self.hidden_dim_s, self.padding_token).to(self.device)\n",
        "        self.decoder = Decoder(self.max_target_idx+1, self.embedding_dim_t, self.hidden_dim_t, self.padding_token).to(self.device)\n",
        "\n",
        "        if self.do_att:\n",
        "            self.att_mech = seq2seqAtt(self.hidden_dim_att, self.hidden_dim_s, self.hidden_dim_t).to(self.device)\n",
        "\n",
        "    def my_pad(self, my_list):\n",
        "        '''my_list is a list of tuples of the form [(tensor_s_1, tensor_t_1), ..., (tensor_s_batch, tensor_t_batch)]\n",
        "        the <eos> token is appended to each sequence before padding\n",
        "        https://pytorch.org/docs/stable/nn.html#torch.nn.utils.rnn.pad_sequence'''\n",
        "        batch_source = pad_sequence([torch.cat((elt[0], torch.LongTensor([self.eos_token]))) for elt in my_list], batch_first=True, padding_value=self.padding_token)\n",
        "        batch_target = pad_sequence([torch.cat((elt[1], torch.LongTensor([self.eos_token]))) for elt in my_list], batch_first=True, padding_value=self.padding_token)\n",
        "        return batch_source, batch_target\n",
        "\n",
        "    def forward(self, input, max_size, is_prod):\n",
        "        if is_prod:\n",
        "            input = input.unsqueeze(1) # (seq) -> (seq, 1) 1D input <=> we receive just one sentence as input (predict/production mode)\n",
        "        current_batch_size = input.size(1)\n",
        "        # fill the gap #\n",
        "        # use the encoder\n",
        "        source_hs =self.encoder(input)\n",
        "        # = = = decoder part (one timestep at a time)  = = =\n",
        "        target_h = torch.zeros(size=(1, current_batch_size, self.hidden_dim_t)).to(self.device) # init (1, batch, feat)\n",
        "\n",
        "        # fill the gap #\n",
        "        # (initialize target_input with the proper token)\n",
        "        target_input = torch.LongTensor([self.sos_token]).repeat(current_batch_size).unsqueeze(0).to(self.device) # init (1, batch)\n",
        "        pos = 0\n",
        "        eos_counter = 0\n",
        "        logits = []\n",
        "        weights = []\n",
        "\n",
        "        while True:\n",
        "            if self.do_att:\n",
        "                source_context = self.att_mech(target_h, source_hs)\n",
        "\n",
        "                # FILL THE GAP FOR QUESTION 3 (Not Necessary for TASK4): fill \"weights\" variable\n",
        "                source_context=self.att_mech(target_h, source_hs)\n",
        "                weights.append(source_context[1])\n",
        "                \n",
        "\n",
        "                source_context =  source_context[0] # (1, batch, feat)\n",
        "            else:\n",
        "                source_context = source_hs[-1, :, :].unsqueeze(0) # (1, batch, feat) last hidden state of encoder\n",
        "            # fill the gap #\n",
        "            # use the decoder\n",
        "            prediction, target_h =self.decoder(target_input, source_context, target_h)\n",
        "            logits.append(prediction) # (1, batch, vocab)\n",
        "            # fill the gap #\n",
        "            # get the next input to pass the decoder\n",
        "            target_input =prediction.argmax(-1)\n",
        "            eos_counter += torch.sum(target_input==self.eos_token).item()\n",
        "            pos += 1\n",
        "            if pos >= max_size or (eos_counter == current_batch_size and is_prod):\n",
        "                break\n",
        "        to_return = torch.cat(logits, 0) # logits is a list of tensors -> (seq, batch, vocab)\n",
        "\n",
        "        if is_prod:\n",
        "            to_return = to_return.squeeze(dim=1) # (seq, vocab)\n",
        "\n",
        "        return to_return, weights\n",
        "\n",
        "    def fit(self, trainingDataset, testDataset, lr, batch_size, n_epochs, patience):\n",
        "        parameters = [p for p in self.parameters() if p.requires_grad]\n",
        "        optimizer = optim.Adam(parameters, lr=lr)\n",
        "        criterion = torch.nn.CrossEntropyLoss(ignore_index=self.padding_token) # the softmax is inside the loss!\n",
        "        # https://pytorch.org/docs/stable/data.html#torch.utils.data.DataLoader\n",
        "        # we pass a collate function to perform padding on the fly, within each batch\n",
        "        # this is better than truncation/padding at the dataset level\n",
        "        train_loader = data.DataLoader(trainingDataset, batch_size=batch_size,\n",
        "                                       shuffle=True, collate_fn=self.my_pad) # returns (batch, seq)\n",
        "        test_loader = data.DataLoader(testDataset, batch_size=512,\n",
        "                                      collate_fn=self.my_pad)\n",
        "        tdqm_dict_keys = ['loss', 'test loss']\n",
        "        tdqm_dict = dict(zip(tdqm_dict_keys, [0.0, 0.0]))\n",
        "        patience_counter = 1\n",
        "        patience_loss = 99999\n",
        "\n",
        "        for epoch in range(n_epochs):\n",
        "            with tqdm(total=len(train_loader), unit_scale=True, postfix={'loss':0.0, 'test loss':0.0},\n",
        "                      desc=\"Epoch : %i/%i\" % (epoch, n_epochs-1), ncols=100) as pbar:\n",
        "                for loader_idx, loader in enumerate([train_loader, test_loader]):\n",
        "                    total_loss = 0\n",
        "                    # set model mode (https://stackoverflow.com/questions/51433378/what-does-model-train-do-in-pytorch)\n",
        "                    if loader_idx == 0:\n",
        "                        self.train()\n",
        "                    else:\n",
        "                        self.eval()\n",
        "                    for i, (batch_source, batch_target) in enumerate(loader):\n",
        "                        batch_source = batch_source.transpose(1, 0).to(self.device) # RNN needs (seq, batch, feat) but loader returns (batch, seq)\n",
        "                        batch_target = batch_target.transpose(1, 0).to(self.device) # (seq, batch)\n",
        "\n",
        "                        # are we using the model in production\n",
        "                        is_prod = len(batch_source.shape)==1 # if False, 2D input (seq, batch), i.e., train or test\n",
        "                        if is_prod:\n",
        "                            max_size = self.max_size\n",
        "                            self.eval()\n",
        "                        else:\n",
        "                            max_size = batch_target.size(0) # no need to continue generating after we've exceeded the length of the longest ground truth sequence\n",
        "\n",
        "                        unnormalized_logits = self.forward(batch_source, max_size, is_prod)[0]\n",
        "                        sentence_loss = criterion(unnormalized_logits.flatten(end_dim=1), batch_target.flatten())\n",
        "                        total_loss += sentence_loss.item()\n",
        "                        tdqm_dict[tdqm_dict_keys[loader_idx]] = total_loss/(i+1)\n",
        "                        pbar.set_postfix(tdqm_dict)\n",
        "                        if loader_idx == 0:\n",
        "                            optimizer.zero_grad() # flush gradient attributes\n",
        "                            sentence_loss.backward() # compute gradients\n",
        "                            optimizer.step() # update\n",
        "                            pbar.update(1)\n",
        "\n",
        "            if total_loss > patience_loss:\n",
        "                patience_counter += 1\n",
        "            else:\n",
        "                patience_loss = total_loss\n",
        "                patience_counter = 1 # reset\n",
        "\n",
        "            if patience_counter > patience:\n",
        "                break\n",
        "\n",
        "    def sourceNl_to_ints(self, source_nl):\n",
        "        '''converts natural language source sentence into source integers'''\n",
        "        source_nl_clean = source_nl.lower().replace(\"'\",' ').replace('-',' ')\n",
        "        source_nl_clean_tok = word_tokenize(source_nl_clean, self.source_language)\n",
        "        source_ints = [int(self.vocab_s[elt]) if elt in self.vocab_s else \\\n",
        "                       self.oov_token for elt in source_nl_clean_tok]\n",
        "\n",
        "        source_ints = torch.LongTensor(source_ints).to(self.device)\n",
        "        return source_ints\n",
        "\n",
        "    def targetInts_to_nl(self, target_ints):\n",
        "        '''converts integer target sentence into target natural language'''\n",
        "        return ['<PAD>' if elt==self.padding_token else '<OOV>' if elt==self.oov_token \\\n",
        "                else '<EOS>' if elt==self.eos_token else '<SOS>' if elt==self.sos_token\\\n",
        "                else self.vocab_t_inv[elt] for elt in target_ints]\n",
        "\n",
        "    def predict(self, source_nl):\n",
        "        source_ints = self.sourceNl_to_ints(source_nl)\n",
        "        logits = self.forward(source_ints, self.max_size, True) # (seq) -> (<=max_size, vocab)\n",
        "        target_ints = logits[0].argmax(-1).squeeze() # (<=max_size, 1) -> (<=max_size)\n",
        "        target_nl = self.targetInts_to_nl(target_ints.tolist())\n",
        "        return ' '.join(target_nl), logits[1]\n",
        "\n",
        "    def save(self, path_to_file):\n",
        "        attrs = {attr:getattr(self,attr) for attr in self.ARGS}\n",
        "        attrs['state_dict'] = self.state_dict()\n",
        "        torch.save(attrs, path_to_file)\n",
        "\n",
        "    @classmethod # a class method does not see the inside of the class (a static method does not take self as first argument)\n",
        "    def load(cls, path_to_file):\n",
        "        attrs = torch.load(path_to_file, map_location=lambda storage, loc: storage) # allows loading on CPU a model trained on GPU, see https://discuss.pytorch.org/t/on-a-cpu-device-how-to-load-checkpoint-saved-on-gpu-device/349/6\n",
        "        state_dict = attrs.pop('state_dict')\n",
        "        new = cls(**attrs) # * list and ** names (dict) see args and kwargs\n",
        "        new.load_state_dict(state_dict)\n",
        "        return new"
      ]
    },
    {
      "cell_type": "markdown",
      "metadata": {
        "id": "md-HH53wAq3S"
      },
      "source": [
        "### Download the data and the pretrained model:"
      ]
    },
    {
      "cell_type": "code",
      "execution_count": 458,
      "metadata": {
        "id": "datl5SFtJ9Br"
      },
      "outputs": [],
      "source": [
        "import urllib\n",
        "\n",
        "#urllib.request.urlretrieve(\"https://onedrive.live.com/download?cid=AE69638675180117&resid=AE69638675180117%2199291&authkey=AMIEuRcvDQWgoZo\", \"data.zip\")\n",
        "#urllib.request.urlretrieve(\"https://onedrive.live.com/download?cid=AE69638675180117&resid=AE69638675180117%2199292&authkey=ANLtZTfpmk6tcE0\", \"pretrained_moodle.pt\")\n",
        "#!unzip data.zip\n",
        "\n",
        "path_to_data = './data/'\n",
        "path_to_save_models = './'"
      ]
    },
    {
      "cell_type": "markdown",
      "metadata": {
        "id": "AmBgproQAv8_"
      },
      "source": [
        "### Define the dataloader:"
      ]
    },
    {
      "cell_type": "code",
      "execution_count": 459,
      "metadata": {
        "id": "wZCiFl61LPQj"
      },
      "outputs": [],
      "source": [
        "class Dataset(data.Dataset):\n",
        "  def __init__(self, pairs):\n",
        "        self.pairs = pairs\n",
        "\n",
        "  def __len__(self):\n",
        "        return len(self.pairs) # total nb of observations\n",
        "\n",
        "  def __getitem__(self, idx):\n",
        "        source, target = self.pairs[idx] # one observation\n",
        "        return torch.LongTensor(source), torch.LongTensor(target)\n",
        "\n",
        "def load_pairs(train_or_test):\n",
        "    with open(path_to_data + 'pairs_' + train_or_test + '_ints.txt', 'r', encoding='utf-8') as file:\n",
        "        pairs_tmp = file.read().splitlines()\n",
        "    pairs_tmp = [elt.split('\\t') for elt in pairs_tmp]\n",
        "    pairs_tmp = [[[int(eltt) for eltt in elt[0].split()],[int(eltt) for eltt in \\\n",
        "                  elt[1].split()]] for elt in pairs_tmp]\n",
        "    return pairs_tmp"
      ]
    },
    {
      "cell_type": "markdown",
      "metadata": {
        "id": "a1yDxMlvA1yH"
      },
      "source": [
        "<b><h4><font color='blue'>\n",
        "<hr style=\"border:10px solid blue\"> </hr>\n",
        "Task 5: </b><br>\n",
        "Check that your implementation is correct by running $\\texttt{the following cell}$ for a few epochs and verifying that the loss decreases.\n",
        "<hr style=\"border:10px solid blue\"> </hr>\n",
        "</font></h4>"
      ]
    },
    {
      "cell_type": "code",
      "execution_count": 460,
      "metadata": {
        "id": "kSZ-cvSuLQVt"
      },
      "outputs": [
        {
          "name": "stdout",
          "output_type": "stream",
          "text": [
            "data loaded\n",
            "data prepared\n",
            "= = = attention-based model?: True = = =\n",
            "max source index 5281\n",
            "source vocab size 5278\n",
            "max target index 7459\n",
            "target vocab size 7456\n"
          ]
        },
        {
          "name": "stderr",
          "output_type": "stream",
          "text": [
            "Epoch : 0/19: 100%|█████████████████| 2.13k/2.13k [01:30<00:00, 23.7it/s, loss=5.21, test loss=4.67]\n",
            "Epoch : 1/19: 100%|█████████████████| 2.13k/2.13k [01:36<00:00, 22.0it/s, loss=4.52, test loss=4.37]\n",
            "Epoch : 2/19: 100%|█████████████████| 2.13k/2.13k [01:28<00:00, 24.1it/s, loss=4.23, test loss=4.02]\n",
            "Epoch : 3/19: 100%|█████████████████| 2.13k/2.13k [02:18<00:00, 15.4it/s, loss=3.86, test loss=3.72]\n",
            "Epoch : 4/19: 100%|██████████████████| 2.13k/2.13k [02:27<00:00, 14.5it/s, loss=3.6, test loss=3.52]\n",
            "Epoch : 5/19: 100%|█████████████████| 2.13k/2.13k [01:25<00:00, 25.0it/s, loss=3.43, test loss=3.39]\n",
            "Epoch : 6/19: 100%|█████████████████| 2.13k/2.13k [01:26<00:00, 24.7it/s, loss=3.29, test loss=3.28]\n",
            "Epoch : 7/19: 100%|█████████████████| 2.13k/2.13k [01:26<00:00, 24.6it/s, loss=3.18, test loss=3.18]\n",
            "Epoch : 8/19: 100%|█████████████████| 2.13k/2.13k [01:25<00:00, 25.0it/s, loss=3.08, test loss=3.11]\n",
            "Epoch : 9/19: 100%|█████████████████| 2.13k/2.13k [01:26<00:00, 24.8it/s, loss=3.01, test loss=3.05]\n",
            "Epoch : 10/19: 100%|████████████████| 2.13k/2.13k [01:25<00:00, 24.8it/s, loss=2.94, test loss=3.01]\n",
            "Epoch : 11/19: 100%|████████████████| 2.13k/2.13k [01:26<00:00, 24.8it/s, loss=2.89, test loss=2.96]\n",
            "Epoch : 12/19: 100%|████████████████| 2.13k/2.13k [01:27<00:00, 24.4it/s, loss=2.84, test loss=2.92]\n",
            "Epoch : 13/19: 100%|█████████████████| 2.13k/2.13k [01:29<00:00, 23.7it/s, loss=2.79, test loss=2.9]\n",
            "Epoch : 14/19: 100%|████████████████| 2.13k/2.13k [01:29<00:00, 23.7it/s, loss=2.75, test loss=2.86]\n",
            "Epoch : 15/19: 100%|████████████████| 2.13k/2.13k [01:28<00:00, 24.2it/s, loss=2.72, test loss=2.86]\n",
            "Epoch : 16/19: 100%|████████████████| 2.13k/2.13k [01:28<00:00, 24.1it/s, loss=2.69, test loss=2.81]\n",
            "Epoch : 17/19: 100%|████████████████| 2.13k/2.13k [01:27<00:00, 24.4it/s, loss=2.66, test loss=2.79]\n",
            "Epoch : 18/19: 100%|████████████████| 2.13k/2.13k [01:26<00:00, 24.8it/s, loss=2.63, test loss=2.77]\n",
            "Epoch : 19/19: 100%|████████████████| 2.13k/2.13k [01:26<00:00, 24.6it/s, loss=2.61, test loss=2.75]\n"
          ]
        }
      ],
      "source": [
        "do_att = True # should always be set to True\n",
        "device = torch.device(\"cuda\" if torch.cuda.is_available() else \"cpu\")\n",
        "\n",
        "pairs_train = load_pairs('train')\n",
        "pairs_test = load_pairs('test')\n",
        "\n",
        "with open(path_to_data + 'vocab_source.json','r') as file:\n",
        "    vocab_source = json.load(file) # word -> index\n",
        "\n",
        "with open(path_to_data + 'vocab_target.json','r') as file:\n",
        "    vocab_target = json.load(file) # word -> index\n",
        "\n",
        "vocab_target_inv = {v:k for k,v in vocab_target.items()} # index -> word\n",
        "print('data loaded')\n",
        "training_set = Dataset(pairs_train)\n",
        "test_set = Dataset(pairs_test)\n",
        "print('data prepared')\n",
        "print('= = = attention-based model?:',str(do_att),'= = =')\n",
        "\n",
        "\n",
        "model = seq2seqModel(vocab_s=vocab_source,\n",
        "                      source_language='english',\n",
        "                      vocab_t_inv=vocab_target_inv,\n",
        "                      embedding_dim_s=40,\n",
        "                      embedding_dim_t=40,\n",
        "                      hidden_dim_s=30,\n",
        "                      hidden_dim_t=30,\n",
        "                      hidden_dim_att=20,\n",
        "                      do_att=do_att,\n",
        "                      padding_token=0,\n",
        "                      oov_token=1,\n",
        "                      sos_token=2,\n",
        "                      eos_token=3,\n",
        "                      max_size=30).to(device) # max size of generated sentence in prediction mode\n",
        "\n",
        "model.fit(training_set,test_set,lr=0.001,batch_size=64,n_epochs=20,patience=2)\n",
        "model.save(path_to_save_models + 'my_model.pt')\n"
      ]
    },
    {
      "cell_type": "markdown",
      "metadata": {
        "id": "WjzknQ0EBTIF"
      },
      "source": [
        "<b><h4><font color='blue'>\n",
        "<hr style=\"border:10px solid blue\"> </hr>\n",
        "Task 6: </b><br>\n",
        "Run the following cell using the pre-trained weights.\n",
        "<hr style=\"border:10px solid blue\"> </hr>\n",
        "</font></h4>"
      ]
    },
    {
      "cell_type": "code",
      "execution_count": 461,
      "metadata": {
        "id": "FwUInZMyQzci"
      },
      "outputs": [
        {
          "name": "stdout",
          "output_type": "stream",
          "text": [
            "max source index 5281\n",
            "source vocab size 5278\n",
            "max target index 7459\n",
            "target vocab size 7456\n",
            "= = = = = \n",
            " I am a student. -> je suis étudiant . . . . . . . . . . . . . . . . . . . . . . . . . . .\n",
            "= = = = = \n",
            " I have a red car. -> j ai une voiture rouge . . . . . . . . . . . . . . . . . . . . . . . . .\n",
            "= = = = = \n",
            " I love playing video games. -> j adore jouer à jeux jeux jeux vidéo . . . . . . . . . . . . . . . . . . . . . .\n",
            "= = = = = \n",
            " This river is full of fish. -> cette rivière est pleine de poisson . . . . . . . . . . . . . . . . . . . . . . . .\n",
            "= = = = = \n",
            " The fridge is full of food. -> le frigo est plein de nourriture . . . . . . . . . . . . . . . . . . . . . . . .\n",
            "= = = = = \n",
            " The cat fell asleep on the mat. -> le chat s est endormi sur le tapis . . . . . . . . . . . . . . . . . . . . . .\n",
            "= = = = = \n",
            " my brother likes pizza. -> mon frère aime la pizza . . . . . . . . . . . . . . . . . . . . . . . . .\n",
            "= = = = = \n",
            " I did not mean to hurt you -> je n ai pas voulu intention de blesser blesser blesser blesser blesser blesser . blesser . blesser . . . . . . . . . . . . .\n",
            "= = = = = \n",
            " She is so mean -> elle est tellement méchant méchant . <EOS>\n",
            "= = = = = \n",
            " Help me pick out a tie to go with this suit! -> aidez moi à chercher une cravate pour aller avec ceci ! ! ! ! ! ! ! ! ! ! ! ! ! ! <EOS>\n",
            "= = = = = \n",
            " I can't help but smoking weed -> je ne peux pas empêcher de de fumer fumer fumer fumer fumer fumer fumer fumer fumer fumer urgence urgence urgence urgence urgence urgence . urgence urgence . urgence urgence .\n",
            "= = = = = \n",
            " The kids were playing hide and seek -> les enfants jouent cache cache cache cache caché caché caché caché caché caché caché caché caché caché caché caché caché caché caché dentifrice perdre caché risques rapide caché risques éveillés\n",
            "= = = = = \n",
            " The cat fell asleep in front of the fireplace -> le chat s est en du du pression peigne peigne cheminée portail portail portail portail portail portail portail portail indépendant oiseaux oiseaux oiseaux oiseaux oiseaux oiseaux oiseaux oiseaux oiseaux oiseaux\n"
          ]
        }
      ],
      "source": [
        "model = seq2seqModel.load(path_to_save_models + 'pretrained_moodle.pt')\n",
        "to_test = ['I am a student.',\n",
        "            'I have a red car.',  # inversion captured\n",
        "            'I love playing video games.',\n",
        "            'This river is full of fish.', # plein vs pleine (accord)\n",
        "            'The fridge is full of food.',\n",
        "            'The cat fell asleep on the mat.',\n",
        "            'my brother likes pizza.', # pizza is translated to 'la pizza'\n",
        "            'I did not mean to hurt you', # translation of mean in context\n",
        "            'She is so mean',\n",
        "            'Help me pick out a tie to go with this suit!', # right translation\n",
        "            \"I can't help but smoking weed\", # this one and below: hallucination\n",
        "            'The kids were playing hide and seek',\n",
        "            'The cat fell asleep in front of the fireplace']\n",
        "\n",
        "for elt in to_test:\n",
        "    print('= = = = = \\n','%s -> %s' % (elt, model.predict(elt)[0]))"
      ]
    },
    {
      "cell_type": "markdown",
      "metadata": {},
      "source": [
        "testing with the new model"
      ]
    },
    {
      "cell_type": "code",
      "execution_count": 463,
      "metadata": {},
      "outputs": [
        {
          "name": "stdout",
          "output_type": "stream",
          "text": [
            "max source index 5281\n",
            "source vocab size 5278\n",
            "max target index 7459\n",
            "target vocab size 7456\n",
            "= = = = = \n",
            " I am a student. -> je suis étudiant . . . . . . . . . . . . . . . . . . . . . . . . . . .\n",
            "= = = = = \n",
            " I have a red car. -> j ai un rouge voiture . . . . . . . . . . voiture voiture voiture voiture voiture voiture voiture voiture voiture . voiture . . . voiture\n",
            "= = = = = \n",
            " I love playing video games. -> je adore jouer jeux jeux jeux . . . . . . . . . . . . jeux . jeux . . . . . . . . .\n",
            "= = = = = \n",
            " This river is full of fish. -> cette rivière est pleine de poisson . . . . . . . . . . . poisson poisson poisson poisson poisson poisson poisson poisson poisson chapeau . poisson chapeau\n",
            "= = = = = \n",
            " The fridge is full of food. -> le frigo est pleine de nourriture . . . . . . . . . . . . . . pleine . . pleine . . . pleine . .\n",
            "= = = = = \n",
            " The cat fell asleep on the mat. -> le chat <OOV> <OOV> sur le . . . . . . . . . . . . . . . . . . . . . . . .\n",
            "= = = = = \n",
            " my brother likes pizza. -> mon frère aime la pizza . . . . . . . . . . . . . . . . . . . . frère frère . frère frère\n",
            "= = = = = \n",
            " I did not mean to hurt you -> je n ai pas pas dire dire me me me de blesser blesser pas . . pas pas pas pas pas pas pas pas pas pas pas pas pas pas\n",
            "= = = = = \n",
            " She is so mean -> elle est tellement sûr de veut veut veut veut veut sûr sûr pas pas pas sûr sûr sûr sûr sûr sûr sûr . oiseau oiseau oiseau . . . jolie\n",
            "= = = = = \n",
            " Help me pick out a tie to go with this suit! -> aidez moi une un cravate conduire de , travail ceci . ! ! ! ! ! ! ! . . . . . . . . . . . .\n",
            "= = = = = \n",
            " I can't help but smoking weed -> je ne peux pas aider empêcher à fumer fumer de de de de de de . . . . . . . . . . . . . . .\n",
            "= = = = = \n",
            " The kids were playing hide and seek -> les enfants étaient jouer le le de . . et . . . . . . . . . . . . . . . . . . . .\n",
            "= = = = = \n",
            " The cat fell asleep in front of the fireplace -> le chat <OOV> <OOV> dans la <OOV> l cible . cible cible cible cible cible . . <OOV> <OOV> <OOV> <OOV> <OOV> <OOV> <OOV> <OOV> public public public <OOV> <OOV>\n"
          ]
        }
      ],
      "source": [
        "model2=seq2seqModel.load(path_to_save_models + 'my_model.pt')\n",
        "for elt in to_test:\n",
        "    print('= = = = = \\n','%s -> %s' % (elt, model2.predict(elt)[0]))"
      ]
    },
    {
      "cell_type": "markdown",
      "metadata": {
        "id": "-4I1ROQnCIcZ"
      },
      "source": [
        "<h3><b>5. Questions:</b></h3>\n",
        "\n",
        "<b><h4><font color='red'>\n",
        "<hr style=\"border:10px solid red\"> </hr>\n",
        "Question 1 (5 points): </b><br>\n",
        "What do you think about our greedy decoding strategy? Base your answer on slides 87-95 from this <a href='https://nlp.stanford.edu/projects/nmt/Luong-Cho-Manning-NMT-ACL2016-v4.pdf'>presentation</a> (taken from this <a href='https://sites.google.com/site/acl16nmt/home'>ACL tutorial</a>).\n",
        "<hr style=\"border:10px solid red\"> </hr>\n",
        "</font></h4>\n",
        "\n",
        "\n",
        "\n",
        "\n",
        "\n",
        "\n"
      ]
    },
    {
      "cell_type": "markdown",
      "metadata": {
        "id": "t8j_ppwvJnWk"
      },
      "source": [
        "<b><h4><font color='green'>\n",
        "<hr style=\"border:10px solid green\"> </hr>\n",
        "Answer 1: </b><br>\n",
        "\n",
        "\n",
        "This sttrategy makes bad predictions sometimes because it optimizes predictions word after word and not the hole sentence as a set. But it stay computaionnaly efficient\n",
        "\n",
        "\n",
        "\n",
        "<hr style=\"border:10px solid green\"> </hr>\n",
        "</font></h4>\n",
        "\n"
      ]
    },
    {
      "cell_type": "markdown",
      "metadata": {
        "id": "z0m_Hw-NJopL"
      },
      "source": [
        "<b><h4><font color='red'>\n",
        "<hr style=\"border:10px solid red\"> </hr>\n",
        "Question 2 (5 points): </b><br>\n",
        "What major problem do you observe with our translations?\n",
        "How could we remediate this issue? You may find inspiration from reading <a href='https://arxiv.org/abs/1508.04025'>[Luong et al., 2015]</a> and <a href='https://arxiv.org/abs/1601.04811'>[Tu et al., 2016]</a>.\n",
        "<hr style=\"border:10px solid red\"> </hr>\n",
        "</font></h4>"
      ]
    },
    {
      "cell_type": "markdown",
      "metadata": {
        "id": "eExiju09Jhlp"
      },
      "source": [
        "<b><h4><font color='green'>\n",
        "<hr style=\"border:10px solid green\"> </hr>\n",
        "Answer 2: </b><br>\n",
        "\n",
        "\n",
        "The main problem observed in translations is insufficient management of long-range dependencies, often resulting in word-for-word literal translations. Also there is the under-translation and over translation problems.\n",
        "the adoption of coverage mechanisms, as proposed by Tu et al. (2016), helps the model avoid excessive repetition of attention to the same parts of the source sentence. By combining these approaches with beam search techniques, such as global beam search, the model can produce translations that are more consistent and true to the original meaning, even for long or complex sentences. In conclusion, the integration of these methods in neural translation models contributes to significantly improve the quality of the translations produced.\n",
        "\n",
        "\n",
        "<hr style=\"border:10px solid green\"> </hr>\n",
        "</font></h4>\n",
        "\n"
      ]
    },
    {
      "cell_type": "markdown",
      "metadata": {
        "id": "RawMHJkMJk-r"
      },
      "source": [
        "<b><h4><font color='red'>\n",
        "<hr style=\"border:10px solid red\"> </hr>\n",
        "Question 3 (5 points): </b><br>\n",
        "Write some code to visualize source/target alignments in the style of Fig. 3 in <a href='https://arxiv.org/abs/1409.0473'>[Bahdanau et al., 2014]</a> or Fig. 7 in <a href='https://arxiv.org/abs/1508.04025'>[Luong et al., 2015]</a>.\n",
        "Interpret your figures for some relevant examples (e.g. to illustrate adjective-noun inversion)\n",
        "<hr style=\"border:10px solid red\"> </hr>\n",
        "</font></h4>"
      ]
    },
    {
      "cell_type": "code",
      "execution_count": 487,
      "metadata": {
        "id": "K4eaYTs3E4gQ"
      },
      "outputs": [
        {
          "name": "stderr",
          "output_type": "stream",
          "text": [
            "C:\\Users\\mouha\\AppData\\Local\\Temp\\ipykernel_27848\\4209636597.py:13: UserWarning: set_ticklabels() should only be used with a fixed number of ticks, i.e. after set_ticks() or using a FixedLocator.\n",
            "  ax.set_xticklabels([''] + sentence.split(' ') +\n",
            "C:\\Users\\mouha\\AppData\\Local\\Temp\\ipykernel_27848\\4209636597.py:15: UserWarning: set_ticklabels() should only be used with a fixed number of ticks, i.e. after set_ticks() or using a FixedLocator.\n",
            "  ax.set_yticklabels([''] + output.split())\n"
          ]
        },
        {
          "data": {
            "image/png": "[encoded data removed]",
            "text/plain": [
              "<Figure size 700x700 with 2 Axes>"
            ]
          },
          "metadata": {},
          "output_type": "display_data"
        }
      ],
      "source": [
        "import matplotlib.pyplot as plt\n",
        "import numpy as np\n",
        "import matplotlib.ticker as ticker\n",
        "\n",
        "def show_attention(model,sentence):\n",
        "    output, weights = model.predict(sentence)\n",
        "    fig = plt.figure(figsize=(7,7))\n",
        "    ax = fig.add_subplot(111)\n",
        "    cax = ax.matshow(np.array([w.detach().cpu().numpy() for w in weights]), cmap='bone')\n",
        "    fig.colorbar(cax)\n",
        "\n",
        "   \n",
        "    ax.set_xticklabels([''] + sentence.split(' ') +\n",
        "                        ['<EOS>'],rotation =90)\n",
        "    ax.set_yticklabels([''] + output.split())\n",
        "\n",
        "    ax.xaxis.set_major_locator(ticker.MultipleLocator(1))\n",
        "    ax.yaxis.set_major_locator(ticker.MultipleLocator(1))\n",
        "\n",
        "    plt.show()\n",
        "\n",
        "sentence = 'I wear a black shirt.'\n",
        "show_attention(model, sentence)\n"
      ]
    },
    {
      "cell_type": "markdown",
      "metadata": {
        "id": "-HY_LqQoJW_z"
      },
      "source": [
        "<b><h4><font color='green'>\n",
        "<hr style=\"border:10px solid green\"> </hr>\n",
        "Answer 3: </b><br>\n",
        "\n",
        "We can see after translation that the model learn the adjective noun inversion like in black shirt and chemise noire\n",
        "\n",
        "\n",
        "\n",
        "<hr style=\"border:10px solid green\"> </hr>\n",
        "</font></h4>"
      ]
    },
    {
      "cell_type": "markdown",
      "metadata": {
        "id": "_jRkSDMjFXLH"
      },
      "source": [
        "\n",
        "\n",
        "\n",
        "<b><h4><font color='red'>\n",
        "<hr style=\"border:10px solid red\"> </hr>\n",
        "Question 4 (5 points): </b><br>\n",
        "What do you observe in the translations of the sentences below?\n",
        "What properties of language models does that illustrate?\n",
        "Read <a href='https://arxiv.org/abs/1802.05365'>[Peters et al., 2018]</a> and <a href='https://arxiv.org/abs/1810.04805'>[Devlin et al., 2018]</a>  to get some ideas.\n",
        "<ul>\n",
        "<b><h4><font color='red'>\n",
        "<li>I did not mean to hurt you\n",
        "<li>She is so mean\n",
        "</ul>\n",
        "<hr style=\"border:10px solid red\"> </hr>\n",
        "</font></h4>\n",
        "\n"
      ]
    },
    {
      "cell_type": "code",
      "execution_count": 486,
      "metadata": {},
      "outputs": [
        {
          "name": "stdout",
          "output_type": "stream",
          "text": [
            "je n ai pas voulu intention de blesser blesser blesser blesser blesser blesser . blesser . blesser . . . . . . . . . . . . .\n",
            "elle est tellement méchant méchant . <EOS>\n"
          ]
        }
      ],
      "source": [
        "a=\"I did not mean to hurt you\"\n",
        "#show_attention(model, a)\n",
        "b=\"She is so mean\"\n",
        "#show_attention(model, b)\n",
        "output1, weights1 = model.predict(a)\n",
        "output2, weights2 = model.predict(b)\n",
        "print(output1)\n",
        "print(output2)\n",
        "\n",
        "\n"
      ]
    },
    {
      "cell_type": "markdown",
      "metadata": {
        "id": "4AyxolVhJU5u"
      },
      "source": [
        "<b><h4><font color='green'>\n",
        "<hr style=\"border:10px solid green\"> </hr>\n",
        "Answer 4: </b><br>\n",
        "\n",
        "We can see that the model can contextualize words in context  as we can see with mean instead of translating words to words.\n",
        "\n",
        "\n",
        "<hr style=\"border:10px solid green\"> </hr>\n",
        "</font></h4>\n"
      ]
    },
    {
      "cell_type": "markdown",
      "metadata": {
        "id": "Z--prNCiJ0Un"
      },
      "source": [
        "<h3><b>6. Appendix:</b></h3>\n",
        "<h4><b>6.1. GRU unit:</b></h4>\n",
        "<p style=\"text-align: justify;\">\n",
        "As shown in Fig. 3, the GRU unit <a href='https://arxiv.org/abs/1406.1078'>[Cho et al., 2014]</a> is a simple RNN unit with two gates (reset and update):\n",
        "\n",
        "\\begin{equation}\n",
        "\\text{reset gate:}~~r_{t} = \\sigma \\big(U_{r}x_{t} + W_{r}h_{t-1} + b_r\\big)\n",
        "\\end{equation}\n",
        "\n",
        "\\begin{equation}\n",
        "\\text{update gate:}~~z_{t} = \\sigma \\big(U_{z}x_{t} + W_{z}h_{t-1} + b_z\\big)\n",
        "\\end{equation}\n",
        "\n",
        "The candidate hidden state is computed as:\n",
        "\n",
        "\\begin{equation}\n",
        "\\hat{h}_{t} = \\mathrm{tanh} \\big(U_{h}x_{t} + W_{h} (r_t \\circ h_{t-1}) + b_h\\big)\n",
        "\\end{equation}\n",
        "\n",
        "<center>\n",
        "<img width='500px' src='https://am3pap003files.storage.live.com/y4mugznZ4hrS1IJ0VQuynYnVaEFVK8-3_YEEDL3pzmbtsCqzdADi8xJf5KFEA55E5cpQt36PH_D-223lncXjrBrDWE5Tke-pn-LO_Sb1KifdEz5vmUJkTzmTAiUdn1DN_hDS9aToU-TpnnarZwzYmvd6zKqaatUEFM8Dale7-2StQJ-owZawYr3r5O5H_PHzMod?width=703&height=489&cropmode=none' />\n",
        "<br>\n",
        "<b>Figure 3:</b> GRU unit. Taken from <a href='http://colah.github.io/posts/2015-08-Understanding-LSTMs/'>Chris Olah's blog</a>.<br>\n",
        "</center>\n",
        "\n",
        "The reset gate determines how much of the information from the previous time steps (stored in $h_{t-1}$) should be discarded.\n",
        "The new hidden state is finally obtained by linearly interpolating between the previous hidden state and the candidate one:\n",
        "\n",
        "\\begin{equation}\n",
        "h_{t} = (1-z_t) \\circ {h}_{t-1} + z_t \\circ \\hat{h}_{t}\n",
        "\\end{equation}"
      ]
    }
  ],
  "metadata": {
    "colab": {
      "provenance": []
    },
    "gpuClass": "standard",
    "kernelspec": {
      "display_name": "Python 3",
      "language": "python",
      "name": "python3"
    },
    "language_info": {
      "codemirror_mode": {
        "name": "ipython",
        "version": 3
      },
      "file_extension": ".py",
      "mimetype": "text/x-python",
      "name": "python",
      "nbconvert_exporter": "python",
      "pygments_lexer": "ipython3",
      "version": "3.10.7"
    },
    "vscode": {
      "interpreter": {
        "hash": "b0fa6594d8f4cbf19f97940f81e996739fb7646882a419484c72d19e05852a7e"
      }
    }
  },
  "nbformat": 4,
  "nbformat_minor": 0
}
